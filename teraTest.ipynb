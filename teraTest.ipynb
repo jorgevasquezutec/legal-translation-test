{
 "cells": [
  {
   "cell_type": "code",
   "execution_count": 1,
   "metadata": {},
   "outputs": [],
   "source": [
    "import os\n",
    "from PIL import Image\n",
    "import pytesseract"
   ]
  },
  {
   "cell_type": "code",
   "execution_count": 2,
   "metadata": {},
   "outputs": [],
   "source": [
    "path = 'images'\n",
    "files = os.listdir(path)\n",
    "files_png = [f for f in files if f[-3:] == 'png']"
   ]
  },
  {
   "cell_type": "code",
   "execution_count": 3,
   "metadata": {},
   "outputs": [
    {
     "name": "stdout",
     "output_type": "stream",
     "text": [
      "['BirthCertificates.png', 'Statements.png', 'AffifavitofSupport.png', 'Articles.png', 'DivorceDecree.png']\n"
     ]
    }
   ],
   "source": [
    "print(files_png)"
   ]
  },
  {
   "cell_type": "code",
   "execution_count": 4,
   "metadata": {},
   "outputs": [],
   "source": [
    "def detect_text(path,output):\n",
    "    image2 = Image.open(path).convert(\"RGB\")\n",
    "    custom_config = r'--oem 3 --psm 6'\n",
    "    text=pytesseract.image_to_string(image2, config=custom_config)\n",
    "    with open(output, \"a\") as f:\n",
    "        f.write(text)\n",
    "    \n"
   ]
  },
  {
   "cell_type": "code",
   "execution_count": 15,
   "metadata": {},
   "outputs": [],
   "source": [
    "for file in files_png:\n",
    "    output = f'test/tera/{file[:-4]}.txt'\n",
    "    detect_text(f'{path}/{file}', output)"
   ]
  }
 ],
 "metadata": {
  "kernelspec": {
   "display_name": "legal-translation",
   "language": "python",
   "name": "python3"
  },
  "language_info": {
   "codemirror_mode": {
    "name": "ipython",
    "version": 3
   },
   "file_extension": ".py",
   "mimetype": "text/x-python",
   "name": "python",
   "nbconvert_exporter": "python",
   "pygments_lexer": "ipython3",
   "version": "3.9.17"
  },
  "orig_nbformat": 4
 },
 "nbformat": 4,
 "nbformat_minor": 2
}
